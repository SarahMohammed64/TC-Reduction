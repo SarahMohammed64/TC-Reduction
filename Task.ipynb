{
  "nbformat": 4,
  "nbformat_minor": 0,
  "metadata": {
    "colab": {
      "provenance": []
    },
    "kernelspec": {
      "name": "python3",
      "display_name": "Python 3"
    },
    "language_info": {
      "name": "python"
    }
  },
  "cells": [
    {
      "cell_type": "code",
      "execution_count": 2,
      "metadata": {
        "colab": {
          "base_uri": "https://localhost:8080/"
        },
        "id": "AcuXf5tuigr_",
        "outputId": "3c05ce47-bb28-40cb-b279-e870fb9cf49b"
      },
      "outputs": [
        {
          "output_type": "stream",
          "name": "stdout",
          "text": [
            "{'apple': 3, 'banana': 2, 'orange': 1}\n"
          ]
        }
      ],
      "source": [
        "\n",
        "def calculate_occurrences(items):\n",
        "    occurrences = {}\n",
        "    for item in items:\n",
        "        c = items.count(item)\n",
        "        occurrences[item] = c\n",
        "    return occurrences\n",
        "\n",
        "items = ['apple', 'banana', 'orange', 'apple', 'banana', 'apple']\n",
        "result = calculate_occurrences(items)\n",
        "print(result)"
      ]
    },
    {
      "cell_type": "code",
      "source": [],
      "metadata": {
        "id": "rsY2KibItllZ"
      },
      "execution_count": null,
      "outputs": []
    }
  ]
}